{
 "cells": [
  {
   "cell_type": "code",
   "execution_count": 7,
   "metadata": {},
   "outputs": [],
   "source": [
    "import gitProjectExample\n",
    "# from gitProjectExample.lib import clean_data"
   ]
  },
  {
   "cell_type": "code",
   "execution_count": 8,
   "metadata": {},
   "outputs": [],
   "source": [
    "from os.path import split\n",
    "import pandas as pd\n",
    "import datetime"
   ]
  },
  {
   "cell_type": "code",
   "execution_count": 9,
   "metadata": {},
   "outputs": [],
   "source": [
    "folder_source, _ = split(gitProjectExample.__file__)"
   ]
  },
  {
   "cell_type": "code",
   "execution_count": 13,
   "metadata": {},
   "outputs": [
    {
     "data": {
      "text/plain": [
       "'/Users/arturoguizar/.pyenv/versions/3.7.7/envs/lewagon/lib/python3.7/site-packages/gitProjectExample/__init__.py'"
      ]
     },
     "execution_count": 13,
     "metadata": {},
     "output_type": "execute_result"
    }
   ],
   "source": [
    "gitProjectExample.__file__"
   ]
  },
  {
   "cell_type": "code",
   "execution_count": 10,
   "metadata": {},
   "outputs": [
    {
     "data": {
      "text/plain": [
       "'/Users/arturoguizar/.pyenv/versions/3.7.7/envs/lewagon/lib/python3.7/site-packages/gitProjectExample'"
      ]
     },
     "execution_count": 10,
     "metadata": {},
     "output_type": "execute_result"
    }
   ],
   "source": [
    "folder_source"
   ]
  },
  {
   "cell_type": "code",
   "execution_count": 12,
   "metadata": {},
   "outputs": [
    {
     "data": {
      "text/plain": [
       "'__init__.py'"
      ]
     },
     "execution_count": 12,
     "metadata": {},
     "output_type": "execute_result"
    }
   ],
   "source": [
    "_"
   ]
  },
  {
   "cell_type": "code",
   "execution_count": 14,
   "metadata": {},
   "outputs": [],
   "source": [
    "df = pd.read_csv('{}/data/data.csv.gz'.format(folder_source))"
   ]
  },
  {
   "cell_type": "code",
   "execution_count": 15,
   "metadata": {},
   "outputs": [
    {
     "data": {
      "text/html": [
       "<div>\n",
       "<style scoped>\n",
       "    .dataframe tbody tr th:only-of-type {\n",
       "        vertical-align: middle;\n",
       "    }\n",
       "\n",
       "    .dataframe tbody tr th {\n",
       "        vertical-align: top;\n",
       "    }\n",
       "\n",
       "    .dataframe thead th {\n",
       "        text-align: right;\n",
       "    }\n",
       "</style>\n",
       "<table border=\"1\" class=\"dataframe\">\n",
       "  <thead>\n",
       "    <tr style=\"text-align: right;\">\n",
       "      <th></th>\n",
       "      <th>id</th>\n",
       "      <th>civility</th>\n",
       "      <th>birthdate</th>\n",
       "      <th>city</th>\n",
       "      <th>postal_code</th>\n",
       "      <th>vote_1</th>\n",
       "      <th>vote_2</th>\n",
       "      <th>vote_3</th>\n",
       "      <th>vote_4</th>\n",
       "      <th>vote_5</th>\n",
       "      <th>...</th>\n",
       "      <th>qa_2</th>\n",
       "      <th>qa_3</th>\n",
       "      <th>qa_4</th>\n",
       "      <th>qc</th>\n",
       "      <th>qd</th>\n",
       "      <th>qe</th>\n",
       "      <th>qf</th>\n",
       "      <th>surveyduration</th>\n",
       "      <th>Unnamed: 140</th>\n",
       "      <th>Unnamed: 141</th>\n",
       "    </tr>\n",
       "  </thead>\n",
       "  <tbody>\n",
       "    <tr>\n",
       "      <th>0</th>\n",
       "      <td>55330</td>\n",
       "      <td>Mme</td>\n",
       "      <td>23/06/1982 00:00</td>\n",
       "      <td>MERIGNAC</td>\n",
       "      <td>33700</td>\n",
       "      <td>69</td>\n",
       "      <td>60</td>\n",
       "      <td>88</td>\n",
       "      <td>86</td>\n",
       "      <td>75</td>\n",
       "      <td>...</td>\n",
       "      <td>0.0</td>\n",
       "      <td>0.0</td>\n",
       "      <td>0.0</td>\n",
       "      <td>10</td>\n",
       "      <td>3.0</td>\n",
       "      <td>4</td>\n",
       "      <td>5</td>\n",
       "      <td>581</td>\n",
       "      <td>NaN</td>\n",
       "      <td>NaN</td>\n",
       "    </tr>\n",
       "    <tr>\n",
       "      <th>1</th>\n",
       "      <td>55334</td>\n",
       "      <td>Mme</td>\n",
       "      <td>04/05/1971 00:00</td>\n",
       "      <td>METZ</td>\n",
       "      <td>57000</td>\n",
       "      <td>66</td>\n",
       "      <td>74</td>\n",
       "      <td>87</td>\n",
       "      <td>91</td>\n",
       "      <td>79</td>\n",
       "      <td>...</td>\n",
       "      <td>0.0</td>\n",
       "      <td>0.0</td>\n",
       "      <td>0.0</td>\n",
       "      <td>5</td>\n",
       "      <td>3.0</td>\n",
       "      <td>4</td>\n",
       "      <td>5</td>\n",
       "      <td>793</td>\n",
       "      <td>NaN</td>\n",
       "      <td>NaN</td>\n",
       "    </tr>\n",
       "    <tr>\n",
       "      <th>2</th>\n",
       "      <td>55336</td>\n",
       "      <td>Mll</td>\n",
       "      <td>21/03/1992 00:00</td>\n",
       "      <td>Paris</td>\n",
       "      <td>75007</td>\n",
       "      <td>8</td>\n",
       "      <td>70</td>\n",
       "      <td>86</td>\n",
       "      <td>92</td>\n",
       "      <td>81</td>\n",
       "      <td>...</td>\n",
       "      <td>0.0</td>\n",
       "      <td>0.0</td>\n",
       "      <td>0.0</td>\n",
       "      <td>8</td>\n",
       "      <td>3.0</td>\n",
       "      <td>6</td>\n",
       "      <td>5</td>\n",
       "      <td>831</td>\n",
       "      <td>NaN</td>\n",
       "      <td>NaN</td>\n",
       "    </tr>\n",
       "    <tr>\n",
       "      <th>3</th>\n",
       "      <td>55339</td>\n",
       "      <td>Mll</td>\n",
       "      <td>29/10/1985 00:00</td>\n",
       "      <td>hellemmes</td>\n",
       "      <td>59260</td>\n",
       "      <td>28</td>\n",
       "      <td>56</td>\n",
       "      <td>87</td>\n",
       "      <td>91</td>\n",
       "      <td>82</td>\n",
       "      <td>...</td>\n",
       "      <td>NaN</td>\n",
       "      <td>0.0</td>\n",
       "      <td>0.0</td>\n",
       "      <td>10</td>\n",
       "      <td>5.0</td>\n",
       "      <td>2</td>\n",
       "      <td>2</td>\n",
       "      <td>489</td>\n",
       "      <td>NaN</td>\n",
       "      <td>NaN</td>\n",
       "    </tr>\n",
       "    <tr>\n",
       "      <th>4</th>\n",
       "      <td>55342</td>\n",
       "      <td>Mll</td>\n",
       "      <td>05/05/1985 00:00</td>\n",
       "      <td>Rosny sous Bois</td>\n",
       "      <td>93110</td>\n",
       "      <td>27</td>\n",
       "      <td>53</td>\n",
       "      <td>85</td>\n",
       "      <td>91</td>\n",
       "      <td>81</td>\n",
       "      <td>...</td>\n",
       "      <td>0.0</td>\n",
       "      <td>0.0</td>\n",
       "      <td>0.0</td>\n",
       "      <td>3</td>\n",
       "      <td>3.0</td>\n",
       "      <td>3</td>\n",
       "      <td>5</td>\n",
       "      <td>845</td>\n",
       "      <td>NaN</td>\n",
       "      <td>NaN</td>\n",
       "    </tr>\n",
       "  </tbody>\n",
       "</table>\n",
       "<p>5 rows × 142 columns</p>\n",
       "</div>"
      ],
      "text/plain": [
       "      id civility         birthdate             city postal_code  vote_1  vote_2  vote_3  vote_4  vote_5  ...  qa_2  qa_3  qa_4  qc   qd  qe  qf  surveyduration  Unnamed: 140  Unnamed: 141\n",
       "0  55330      Mme  23/06/1982 00:00         MERIGNAC       33700      69      60      88      86      75  ...   0.0   0.0   0.0  10  3.0   4   5             581           NaN           NaN\n",
       "1  55334      Mme  04/05/1971 00:00             METZ       57000      66      74      87      91      79  ...   0.0   0.0   0.0   5  3.0   4   5             793           NaN           NaN\n",
       "2  55336      Mll  21/03/1992 00:00            Paris       75007       8      70      86      92      81  ...   0.0   0.0   0.0   8  3.0   6   5             831           NaN           NaN\n",
       "3  55339      Mll  29/10/1985 00:00        hellemmes       59260      28      56      87      91      82  ...   NaN   0.0   0.0  10  5.0   2   2             489           NaN           NaN\n",
       "4  55342      Mll  05/05/1985 00:00  Rosny sous Bois       93110      27      53      85      91      81  ...   0.0   0.0   0.0   3  3.0   3   5             845           NaN           NaN\n",
       "\n",
       "[5 rows x 142 columns]"
      ]
     },
     "execution_count": 15,
     "metadata": {},
     "output_type": "execute_result"
    }
   ],
   "source": [
    "df.head()"
   ]
  },
  {
   "cell_type": "code",
   "execution_count": 20,
   "metadata": {},
   "outputs": [
    {
     "data": {
      "text/plain": [
       "['vote_1', 'vote_2', 'vote_3', 'vote_4', 'vote_5', 'vote_6']"
      ]
     },
     "execution_count": 20,
     "metadata": {},
     "output_type": "execute_result"
    }
   ],
   "source": [
    "#cols = [x for x in data.columns if x.find('vote') >= 0]\n",
    "cols = []\n",
    "for x in df.columns:\n",
    "    if x.find('vote') >= 0:\n",
    "        cols.append(x)\n",
    "cols"
   ]
  },
  {
   "cell_type": "code",
   "execution_count": 38,
   "metadata": {
    "scrolled": true
   },
   "outputs": [
    {
     "data": {
      "text/plain": [
       "[]"
      ]
     },
     "execution_count": 38,
     "metadata": {},
     "output_type": "execute_result"
    }
   ],
   "source": [
    "cols = [x for x in df.columns if x.find('vote') >= 0]\n",
    "cols"
   ]
  },
  {
   "cell_type": "code",
   "execution_count": null,
   "metadata": {},
   "outputs": [],
   "source": []
  },
  {
   "cell_type": "code",
   "execution_count": null,
   "metadata": {},
   "outputs": [],
   "source": []
  },
  {
   "cell_type": "code",
   "execution_count": 35,
   "metadata": {},
   "outputs": [],
   "source": [
    "def clean_data(data):\n",
    "    \"\"\" clean data\n",
    "    \"\"\"\n",
    "    # Remove columns starts with vote\n",
    "    cols = []\n",
    "    for x in data.columns:\n",
    "        if x.find('vote') >= 0:\n",
    "            cols.append(x)\n",
    "    \n",
    "    data.drop(cols, axis=1, inplace=True)\n",
    "    # Remove special characteres from columns\n",
    "    data.loc[:, 'civility'] = data['civility'].replace(r'\\.', '', regex=True)\n",
    "    # Calculate Age from day of birth\n",
    "    actual_year = datetime.datetime.now().year\n",
    "    data.loc[:, 'Year_Month'] = pd.to_datetime(data.birthdate)\n",
    "    data.loc[:, 'Age'] = actual_year - data['Year_Month'].dt.year\n",
    "    # Uppercase variable to avoid duplicates\n",
    "    data.loc[:, 'city'] = data['city'].str.upper()\n",
    "    # Take 2 first digits, 2700 -> 02700 so first two are region\n",
    "    data.loc[:, 'postal_code'] = data.postal_code.str.zfill(5).str[0:2]\n",
    "    # Remove columns with more than 50% of nans\n",
    "    cnans = data.shape[0] / 2\n",
    "    data = data.dropna(thresh=cnans, axis=1)\n",
    "    # Remove rows with more than 50% of nans\n",
    "    rnans = data.shape[1] / 2\n",
    "    data = data.dropna(thresh=rnans, axis=0)\n",
    "    # Discretize based on quantiles\n",
    "    data.loc[:, 'duration'] = pd.qcut(data['surveyduration'], 10)\n",
    "    # Discretize based on values\n",
    "    data.loc[:, 'Age'] = pd.cut(data['Age'], 10)\n",
    "    # Rename columns\n",
    "    data.rename(columns={'q1': 'Frequency'}, inplace=True)\n",
    "    # Transform type of columns\n",
    "    data.loc[:, 'Frequency'] = data['Frequency'].astype(int)\n",
    "    # Rename values in rows\n",
    "    drows = {1: 'Manytimes', 2: 'Onetimebyday', 3: '5/6timesforweek',\n",
    "             4: '4timesforweek', 5: '1/3timesforweek', 6: '1timeformonth',\n",
    "             7: '1/trimestre', 8: 'Less', 9: 'Never'}\n",
    "    data.loc[:, 'Frequency'] = data['Frequency'].map(drows)\n",
    "    return data"
   ]
  },
  {
   "cell_type": "code",
   "execution_count": 36,
   "metadata": {},
   "outputs": [],
   "source": [
    "clean_data = clean_data(df)"
   ]
  },
  {
   "cell_type": "code",
   "execution_count": 37,
   "metadata": {},
   "outputs": [
    {
     "data": {
      "text/html": [
       "<div>\n",
       "<style scoped>\n",
       "    .dataframe tbody tr th:only-of-type {\n",
       "        vertical-align: middle;\n",
       "    }\n",
       "\n",
       "    .dataframe tbody tr th {\n",
       "        vertical-align: top;\n",
       "    }\n",
       "\n",
       "    .dataframe thead th {\n",
       "        text-align: right;\n",
       "    }\n",
       "</style>\n",
       "<table border=\"1\" class=\"dataframe\">\n",
       "  <thead>\n",
       "    <tr style=\"text-align: right;\">\n",
       "      <th></th>\n",
       "      <th>id</th>\n",
       "      <th>civility</th>\n",
       "      <th>birthdate</th>\n",
       "      <th>city</th>\n",
       "      <th>postal_code</th>\n",
       "      <th>Frequency</th>\n",
       "      <th>q10_1</th>\n",
       "      <th>q10_2</th>\n",
       "      <th>q10_3</th>\n",
       "      <th>q10_4</th>\n",
       "      <th>...</th>\n",
       "      <th>qa_3</th>\n",
       "      <th>qa_4</th>\n",
       "      <th>qc</th>\n",
       "      <th>qd</th>\n",
       "      <th>qe</th>\n",
       "      <th>qf</th>\n",
       "      <th>surveyduration</th>\n",
       "      <th>Year_Month</th>\n",
       "      <th>Age</th>\n",
       "      <th>duration</th>\n",
       "    </tr>\n",
       "  </thead>\n",
       "  <tbody>\n",
       "    <tr>\n",
       "      <th>0</th>\n",
       "      <td>55330</td>\n",
       "      <td>Mme</td>\n",
       "      <td>23/06/1982 00:00</td>\n",
       "      <td>MERIGNAC</td>\n",
       "      <td>00</td>\n",
       "      <td>1/3timesforweek</td>\n",
       "      <td>2.0</td>\n",
       "      <td>2.0</td>\n",
       "      <td>2.0</td>\n",
       "      <td>1.0</td>\n",
       "      <td>...</td>\n",
       "      <td>0.0</td>\n",
       "      <td>0.0</td>\n",
       "      <td>10</td>\n",
       "      <td>3.0</td>\n",
       "      <td>4</td>\n",
       "      <td>5</td>\n",
       "      <td>581</td>\n",
       "      <td>1982-06-23</td>\n",
       "      <td>(34.4, 40.1]</td>\n",
       "      <td>(519.8, 582.0]</td>\n",
       "    </tr>\n",
       "    <tr>\n",
       "      <th>1</th>\n",
       "      <td>55334</td>\n",
       "      <td>Mme</td>\n",
       "      <td>04/05/1971 00:00</td>\n",
       "      <td>METZ</td>\n",
       "      <td>00</td>\n",
       "      <td>Manytimes</td>\n",
       "      <td>1.0</td>\n",
       "      <td>1.0</td>\n",
       "      <td>2.0</td>\n",
       "      <td>1.0</td>\n",
       "      <td>...</td>\n",
       "      <td>0.0</td>\n",
       "      <td>0.0</td>\n",
       "      <td>5</td>\n",
       "      <td>3.0</td>\n",
       "      <td>4</td>\n",
       "      <td>5</td>\n",
       "      <td>793</td>\n",
       "      <td>1971-04-05</td>\n",
       "      <td>(45.8, 51.5]</td>\n",
       "      <td>(778.4, 852.0]</td>\n",
       "    </tr>\n",
       "    <tr>\n",
       "      <th>2</th>\n",
       "      <td>55336</td>\n",
       "      <td>Mll</td>\n",
       "      <td>21/03/1992 00:00</td>\n",
       "      <td>PARIS</td>\n",
       "      <td>00</td>\n",
       "      <td>Manytimes</td>\n",
       "      <td>2.0</td>\n",
       "      <td>1.0</td>\n",
       "      <td>1.0</td>\n",
       "      <td>3.0</td>\n",
       "      <td>...</td>\n",
       "      <td>0.0</td>\n",
       "      <td>0.0</td>\n",
       "      <td>8</td>\n",
       "      <td>3.0</td>\n",
       "      <td>6</td>\n",
       "      <td>5</td>\n",
       "      <td>831</td>\n",
       "      <td>1992-03-21</td>\n",
       "      <td>(22.943, 28.7]</td>\n",
       "      <td>(778.4, 852.0]</td>\n",
       "    </tr>\n",
       "    <tr>\n",
       "      <th>3</th>\n",
       "      <td>55339</td>\n",
       "      <td>Mll</td>\n",
       "      <td>29/10/1985 00:00</td>\n",
       "      <td>HELLEMMES</td>\n",
       "      <td>00</td>\n",
       "      <td>Onetimebyday</td>\n",
       "      <td>NaN</td>\n",
       "      <td>NaN</td>\n",
       "      <td>NaN</td>\n",
       "      <td>NaN</td>\n",
       "      <td>...</td>\n",
       "      <td>0.0</td>\n",
       "      <td>0.0</td>\n",
       "      <td>10</td>\n",
       "      <td>5.0</td>\n",
       "      <td>2</td>\n",
       "      <td>2</td>\n",
       "      <td>489</td>\n",
       "      <td>1985-10-29</td>\n",
       "      <td>(34.4, 40.1]</td>\n",
       "      <td>(438.8, 519.8]</td>\n",
       "    </tr>\n",
       "    <tr>\n",
       "      <th>4</th>\n",
       "      <td>55342</td>\n",
       "      <td>Mll</td>\n",
       "      <td>05/05/1985 00:00</td>\n",
       "      <td>ROSNY SOUS BOIS</td>\n",
       "      <td>00</td>\n",
       "      <td>4timesforweek</td>\n",
       "      <td>2.0</td>\n",
       "      <td>2.0</td>\n",
       "      <td>1.0</td>\n",
       "      <td>2.0</td>\n",
       "      <td>...</td>\n",
       "      <td>0.0</td>\n",
       "      <td>0.0</td>\n",
       "      <td>3</td>\n",
       "      <td>3.0</td>\n",
       "      <td>3</td>\n",
       "      <td>5</td>\n",
       "      <td>845</td>\n",
       "      <td>1985-05-05</td>\n",
       "      <td>(34.4, 40.1]</td>\n",
       "      <td>(778.4, 852.0]</td>\n",
       "    </tr>\n",
       "  </tbody>\n",
       "</table>\n",
       "<p>5 rows × 119 columns</p>\n",
       "</div>"
      ],
      "text/plain": [
       "      id civility         birthdate             city postal_code        Frequency  q10_1  q10_2  q10_3  q10_4  ...  qa_3  qa_4  qc   qd  qe  qf  surveyduration  Year_Month             Age  \\\n",
       "0  55330      Mme  23/06/1982 00:00         MERIGNAC          00  1/3timesforweek    2.0    2.0    2.0    1.0  ...   0.0   0.0  10  3.0   4   5             581  1982-06-23    (34.4, 40.1]   \n",
       "1  55334      Mme  04/05/1971 00:00             METZ          00        Manytimes    1.0    1.0    2.0    1.0  ...   0.0   0.0   5  3.0   4   5             793  1971-04-05    (45.8, 51.5]   \n",
       "2  55336      Mll  21/03/1992 00:00            PARIS          00        Manytimes    2.0    1.0    1.0    3.0  ...   0.0   0.0   8  3.0   6   5             831  1992-03-21  (22.943, 28.7]   \n",
       "3  55339      Mll  29/10/1985 00:00        HELLEMMES          00     Onetimebyday    NaN    NaN    NaN    NaN  ...   0.0   0.0  10  5.0   2   2             489  1985-10-29    (34.4, 40.1]   \n",
       "4  55342      Mll  05/05/1985 00:00  ROSNY SOUS BOIS          00    4timesforweek    2.0    2.0    1.0    2.0  ...   0.0   0.0   3  3.0   3   5             845  1985-05-05    (34.4, 40.1]   \n",
       "\n",
       "         duration  \n",
       "0  (519.8, 582.0]  \n",
       "1  (778.4, 852.0]  \n",
       "2  (778.4, 852.0]  \n",
       "3  (438.8, 519.8]  \n",
       "4  (778.4, 852.0]  \n",
       "\n",
       "[5 rows x 119 columns]"
      ]
     },
     "execution_count": 37,
     "metadata": {},
     "output_type": "execute_result"
    }
   ],
   "source": [
    "clean_data.head()"
   ]
  },
  {
   "cell_type": "code",
   "execution_count": 24,
   "metadata": {},
   "outputs": [
    {
     "data": {
      "text/plain": [
       "(999, 138)"
      ]
     },
     "execution_count": 24,
     "metadata": {},
     "output_type": "execute_result"
    }
   ],
   "source": [
    "df.shape"
   ]
  },
  {
   "cell_type": "code",
   "execution_count": 27,
   "metadata": {},
   "outputs": [
    {
     "ename": "AssertionError",
     "evalue": "",
     "output_type": "error",
     "traceback": [
      "\u001b[0;31m---------------------------------------------------------------------------\u001b[0m",
      "\u001b[0;31mAssertionError\u001b[0m                            Traceback (most recent call last)",
      "\u001b[0;32m<ipython-input-27-9c3308ba7f05>\u001b[0m in \u001b[0;36m<module>\u001b[0;34m\u001b[0m\n\u001b[0;32m----> 1\u001b[0;31m \u001b[0;32massert\u001b[0m \u001b[0mdf\u001b[0m\u001b[0;34m.\u001b[0m\u001b[0mshape\u001b[0m \u001b[0;34m==\u001b[0m \u001b[0;34m(\u001b[0m\u001b[0;36m985\u001b[0m\u001b[0;34m,\u001b[0m \u001b[0;36m119\u001b[0m\u001b[0;34m)\u001b[0m\u001b[0;34m\u001b[0m\u001b[0;34m\u001b[0m\u001b[0m\n\u001b[0m",
      "\u001b[0;31mAssertionError\u001b[0m: "
     ]
    }
   ],
   "source": [
    "assert df.shape == (985, 119)"
   ]
  },
  {
   "cell_type": "code",
   "execution_count": 28,
   "metadata": {},
   "outputs": [],
   "source": [
    "assert df.shape == (999, 138)"
   ]
  },
  {
   "cell_type": "code",
   "execution_count": 32,
   "metadata": {},
   "outputs": [
    {
     "data": {
      "text/plain": [
       "0    Mme\n",
       "1    Mme\n",
       "2    Mll\n",
       "3    Mll\n",
       "4    Mll\n",
       "Name: civility, dtype: object"
      ]
     },
     "execution_count": 32,
     "metadata": {},
     "output_type": "execute_result"
    }
   ],
   "source": [
    "(df['civility'].replace(r'\\.', '', regex=True)).head()"
   ]
  },
  {
   "cell_type": "code",
   "execution_count": null,
   "metadata": {},
   "outputs": [],
   "source": []
  },
  {
   "cell_type": "code",
   "execution_count": null,
   "metadata": {},
   "outputs": [],
   "source": []
  }
 ],
 "metadata": {
  "kernelspec": {
   "display_name": "Python 3",
   "language": "python",
   "name": "python3"
  },
  "language_info": {
   "codemirror_mode": {
    "name": "ipython",
    "version": 3
   },
   "file_extension": ".py",
   "mimetype": "text/x-python",
   "name": "python",
   "nbconvert_exporter": "python",
   "pygments_lexer": "ipython3",
   "version": "3.7.7"
  },
  "toc": {
   "base_numbering": 1,
   "nav_menu": {},
   "number_sections": true,
   "sideBar": true,
   "skip_h1_title": false,
   "title_cell": "Table of Contents",
   "title_sidebar": "Contents",
   "toc_cell": false,
   "toc_position": {},
   "toc_section_display": true,
   "toc_window_display": false
  }
 },
 "nbformat": 4,
 "nbformat_minor": 4
}
